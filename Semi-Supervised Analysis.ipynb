{
 "cells": [
  {
   "cell_type": "code",
   "execution_count": 1,
   "id": "a9edd93b",
   "metadata": {},
   "outputs": [
    {
     "name": "stderr",
     "output_type": "stream",
     "text": [
      "[nltk_data] Downloading package wordnet to\n",
      "[nltk_data]     /Users/jaskaransingh/nltk_data...\n",
      "[nltk_data]   Package wordnet is already up-to-date!\n",
      "[nltk_data] Downloading package omw-1.4 to\n",
      "[nltk_data]     /Users/jaskaransingh/nltk_data...\n",
      "[nltk_data]   Package omw-1.4 is already up-to-date!\n",
      "[nltk_data] Downloading package wordnet to punkt...\n",
      "[nltk_data]   Package wordnet is already up-to-date!\n"
     ]
    }
   ],
   "source": [
    "import pandas as pd\n",
    "import numpy as np\n",
    "\n",
    "from preprocess import preprocess_text"
   ]
  },
  {
   "cell_type": "markdown",
   "id": "f483c131",
   "metadata": {},
   "source": [
    "#### Importing labelled and unlabelled data"
   ]
  },
  {
   "cell_type": "code",
   "execution_count": 2,
   "id": "cb5d617f",
   "metadata": {},
   "outputs": [],
   "source": [
    "labelled_data = pd.read_csv(\"data/labelled/labelled_data.csv\")\n",
    "unlabelled_data = pd.read_csv(\"data/unlabelled_data/unlabelled_data_json.csv\")"
   ]
  },
  {
   "cell_type": "markdown",
   "id": "20214d46",
   "metadata": {},
   "source": [
    "#### For Labelled Data"
   ]
  },
  {
   "cell_type": "code",
   "execution_count": 3,
   "id": "360ec6bf",
   "metadata": {},
   "outputs": [],
   "source": [
    "df = labelled_data[['title', 'abstract','categories']]"
   ]
  },
  {
   "cell_type": "code",
   "execution_count": 4,
   "id": "0defe6df",
   "metadata": {},
   "outputs": [],
   "source": [
    "df['title'] = preprocess_text(df, 'title')\n",
    "df['abstract'] = preprocess_text(df, 'abstract')"
   ]
  },
  {
   "cell_type": "markdown",
   "id": "27062953",
   "metadata": {},
   "source": [
    "#### For Unlabelled Data"
   ]
  },
  {
   "cell_type": "code",
   "execution_count": 5,
   "id": "135af27f",
   "metadata": {},
   "outputs": [],
   "source": [
    "df_unlab = unlabelled_data[['title', 'abstract']]"
   ]
  },
  {
   "cell_type": "code",
   "execution_count": 6,
   "id": "4b035c6e",
   "metadata": {},
   "outputs": [],
   "source": [
    "df_unlab['title'] = preprocess_text(df_unlab, 'title')\n",
    "df_unlab['abstract'] = preprocess_text(df_unlab, 'abstract')"
   ]
  },
  {
   "cell_type": "code",
   "execution_count": 7,
   "id": "3fef3f15",
   "metadata": {},
   "outputs": [],
   "source": [
    "unlab_x = df_unlab[['title', 'abstract']].agg(' '.join, axis=1)"
   ]
  },
  {
   "cell_type": "markdown",
   "id": "5a45c7f4",
   "metadata": {},
   "source": [
    "#### Creating Training Data"
   ]
  },
  {
   "cell_type": "code",
   "execution_count": 8,
   "id": "1121bff2",
   "metadata": {},
   "outputs": [],
   "source": [
    "x = df[['title', 'abstract']].agg(' '.join, axis=1)\n",
    "y = df[\"categories\"]"
   ]
  },
  {
   "cell_type": "code",
   "execution_count": 9,
   "id": "88fb21e5",
   "metadata": {},
   "outputs": [],
   "source": [
    "from sklearn.model_selection import train_test_split as tts\n",
    "\n",
    "train_x,test_x,train_y,test_y = tts(x,y,test_size=0.2,stratify=y)"
   ]
  },
  {
   "cell_type": "code",
   "execution_count": 10,
   "id": "732c3baa",
   "metadata": {},
   "outputs": [],
   "source": [
    "from sklearn.feature_extraction.text import TfidfVectorizer\n",
    "\n",
    "tfidf_vect = TfidfVectorizer(stop_words = 'english', max_features=1000)\n",
    "\n",
    "tfidf_train = tfidf_vect.fit_transform(train_x)\n",
    "tfidf_test = tfidf_vect.transform(test_x)\n",
    "\n",
    "tfidf_df = pd.DataFrame(tfidf_train.A, columns=tfidf_vect.get_feature_names())"
   ]
  },
  {
   "cell_type": "code",
   "execution_count": 11,
   "id": "9bbad965",
   "metadata": {},
   "outputs": [
    {
     "name": "stdout",
     "output_type": "stream",
     "text": [
      "0.8666666666666667\n"
     ]
    }
   ],
   "source": [
    "from sklearn.linear_model import LogisticRegression\n",
    "from sklearn.metrics import accuracy_score\n",
    "\n",
    "lg = LogisticRegression(solver='lbfgs', max_iter=1000)\n",
    "\n",
    "lg.fit(tfidf_train, train_y)\n",
    "pred = lg.predict(tfidf_test)\n",
    "\n",
    "print(accuracy_score(test_y,pred))"
   ]
  },
  {
   "cell_type": "code",
   "execution_count": 12,
   "id": "278cf9e0",
   "metadata": {},
   "outputs": [],
   "source": [
    "unlab_df = pd.Series(unlab_x,\n",
    "              name=\"text\")\n",
    "\n",
    "unlab_df = unlab_df.to_frame(name=\"text\")"
   ]
  },
  {
   "cell_type": "code",
   "execution_count": 13,
   "id": "ce27299e",
   "metadata": {},
   "outputs": [],
   "source": [
    "from imblearn.over_sampling import BorderlineSMOTE\n",
    "\n",
    "sm2 = BorderlineSMOTE(random_state=42)\n",
    "tfidf_train, train_y = sm2.fit_resample(tfidf_train, train_y)"
   ]
  },
  {
   "cell_type": "code",
   "execution_count": 14,
   "id": "4eb70b5e",
   "metadata": {},
   "outputs": [],
   "source": [
    "from sklearn.preprocessing import LabelEncoder\n",
    "\n",
    "le = LabelEncoder()\n",
    "encoded_y = le.fit_transform(train_y)\n",
    "test_encoded_y = le.fit_transform(test_y)"
   ]
  },
  {
   "cell_type": "code",
   "execution_count": 16,
   "id": "13aaf2a4",
   "metadata": {},
   "outputs": [
    {
     "data": {
      "text/plain": [
       "(9870, 1000)"
      ]
     },
     "execution_count": 16,
     "metadata": {},
     "output_type": "execute_result"
    }
   ],
   "source": [
    "tfidf_train.shape"
   ]
  },
  {
   "cell_type": "code",
   "execution_count": 17,
   "id": "93b80867",
   "metadata": {},
   "outputs": [
    {
     "name": "stdout",
     "output_type": "stream",
     "text": [
      "(9870, 1000) (32396, 1000)\n"
     ]
    }
   ],
   "source": [
    "tfidf_train.shape\n",
    "tfidf_unlab = tfidf_vect.transform(unlab_x)\n",
    "\n",
    "tfidf_train_df = pd.DataFrame(tfidf_train.A, columns=tfidf_vect.get_feature_names_out())\n",
    "tfidf_unlab_df = pd.DataFrame(tfidf_unlab.A, columns=tfidf_vect.get_feature_names_out())\n",
    "\n",
    "print(tfidf_train_df.shape, tfidf_unlab_df.shape)"
   ]
  },
  {
   "cell_type": "code",
   "execution_count": 18,
   "id": "e83981bb",
   "metadata": {},
   "outputs": [
    {
     "data": {
      "text/plain": [
       "(32396, 1000)"
      ]
     },
     "execution_count": 18,
     "metadata": {},
     "output_type": "execute_result"
    }
   ],
   "source": [
    "tfidf_unlab.shape"
   ]
  },
  {
   "cell_type": "code",
   "execution_count": 19,
   "id": "afb18e2c",
   "metadata": {},
   "outputs": [],
   "source": [
    "X_train_mixed = tfidf_train_df.append(tfidf_unlab_df, ignore_index=True)\n",
    "\n",
    "nolabel = [-1 for _ in range(len(unlab_x))]\n",
    "y_train_mixed = np.concatenate((encoded_y, nolabel))"
   ]
  },
  {
   "cell_type": "code",
   "execution_count": 20,
   "id": "5c0e725d",
   "metadata": {},
   "outputs": [
    {
     "data": {
      "text/plain": [
       "(42266, 1000)"
      ]
     },
     "execution_count": 20,
     "metadata": {},
     "output_type": "execute_result"
    }
   ],
   "source": [
    "X_train_mixed.shape"
   ]
  },
  {
   "cell_type": "code",
   "execution_count": 21,
   "id": "3a1a099e",
   "metadata": {},
   "outputs": [
    {
     "data": {
      "text/plain": [
       "42266"
      ]
     },
     "execution_count": 21,
     "metadata": {},
     "output_type": "execute_result"
    }
   ],
   "source": [
    "len(y_train_mixed)"
   ]
  },
  {
   "cell_type": "code",
   "execution_count": null,
   "id": "273e204c",
   "metadata": {},
   "outputs": [],
   "source": [
    "# importing the module\n",
    "from sklearn.semi_supervised import LabelPropagation\n",
    "\n",
    "# define model\n",
    "model = LabelPropagation()\n",
    "\n",
    "# fit model on training dataset\n",
    "model.fit(X_train_mixed, y_train_mixed)"
   ]
  },
  {
   "cell_type": "code",
   "execution_count": null,
   "id": "721d5b3e",
   "metadata": {},
   "outputs": [],
   "source": [
    "pred = model.predict(tfidf_test)"
   ]
  },
  {
   "cell_type": "code",
   "execution_count": null,
   "id": "17210806",
   "metadata": {},
   "outputs": [],
   "source": [
    "print(f'The accuracy using Self Training Classifier is {accuracy_score(test_encoded_y, pred)}')"
   ]
  },
  {
   "cell_type": "code",
   "execution_count": null,
   "id": "5fc6e5c3",
   "metadata": {},
   "outputs": [],
   "source": [
    "pd.Series(y_train_mixed).value_counts()"
   ]
  },
  {
   "cell_type": "code",
   "execution_count": null,
   "id": "a05a0041",
   "metadata": {},
   "outputs": [],
   "source": [
    "from sklearn.linear_model import LogisticRegression\n",
    "\n",
    "tfidf_semi_sup = tfidf_vect.transform(X_train_mixed)\n",
    "semi_df = pd.DataFrame(tfidf_semi_sup.A, columns=tfidf_vect.get_feature_names_out())\n",
    "\n",
    "lg = LogisticRegression(solver='lbfgs', max_iter=1000)\n",
    "\n",
    "# importing selftraining classifier\n",
    "from sklearn.semi_supervised import SelfTrainingClassifier\n",
    "\n",
    "# Specify Self-Training model parameters\n",
    "self_training_model = SelfTrainingClassifier(base_estimator=lg)\n",
    "\n",
    "# Fit the model\n",
    "clf_ST = self_training_model.fit(semi_df, y_train_mixed)"
   ]
  },
  {
   "cell_type": "code",
   "execution_count": null,
   "id": "fb30f633",
   "metadata": {},
   "outputs": [],
   "source": [
    "pred_self_training = clf_ST.predict(tfidf_test)"
   ]
  },
  {
   "cell_type": "code",
   "execution_count": null,
   "id": "27b3b029",
   "metadata": {},
   "outputs": [],
   "source": [
    "print(f'The accuracy using Self Training Classifier is {accuracy_score(test_encoded_y, pred_self_training)}')"
   ]
  },
  {
   "cell_type": "code",
   "execution_count": 3,
   "id": "4f96dadc",
   "metadata": {},
   "outputs": [],
   "source": [
    "from semi_supervised import Semisupervised"
   ]
  },
  {
   "cell_type": "code",
   "execution_count": 4,
   "id": "80df7209",
   "metadata": {},
   "outputs": [],
   "source": [
    "trainer = Semisupervised(labelled_data, unlabelled_data)"
   ]
  },
  {
   "cell_type": "code",
   "execution_count": 5,
   "id": "8e144822",
   "metadata": {},
   "outputs": [],
   "source": [
    "cls_st = trainer.train_self_training_classifier()"
   ]
  },
  {
   "cell_type": "code",
   "execution_count": 6,
   "id": "6478566f",
   "metadata": {},
   "outputs": [],
   "source": [
    "pred, acc = trainer.predict_self_training_classifier(cls_st)"
   ]
  },
  {
   "cell_type": "code",
   "execution_count": 7,
   "id": "b81eb408",
   "metadata": {},
   "outputs": [
    {
     "name": "stdout",
     "output_type": "stream",
     "text": [
      "0.8820987654320988\n"
     ]
    }
   ],
   "source": [
    "print(acc)"
   ]
  },
  {
   "cell_type": "code",
   "execution_count": null,
   "id": "fdb4a0c1",
   "metadata": {},
   "outputs": [],
   "source": []
  }
 ],
 "metadata": {
  "kernelspec": {
   "display_name": "Python 3 (ipykernel)",
   "language": "python",
   "name": "python3"
  },
  "language_info": {
   "codemirror_mode": {
    "name": "ipython",
    "version": 3
   },
   "file_extension": ".py",
   "mimetype": "text/x-python",
   "name": "python",
   "nbconvert_exporter": "python",
   "pygments_lexer": "ipython3",
   "version": "3.9.12"
  }
 },
 "nbformat": 4,
 "nbformat_minor": 5
}
