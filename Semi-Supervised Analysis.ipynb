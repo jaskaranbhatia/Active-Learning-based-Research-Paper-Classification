{
 "cells": [
  {
   "cell_type": "code",
   "execution_count": 1,
   "id": "19bc7e84",
   "metadata": {},
   "outputs": [
    {
     "name": "stderr",
     "output_type": "stream",
     "text": [
      "[nltk_data] Downloading package wordnet to\n",
      "[nltk_data]     /Users/jaskaransingh/nltk_data...\n",
      "[nltk_data]   Package wordnet is already up-to-date!\n",
      "[nltk_data] Downloading package omw-1.4 to\n",
      "[nltk_data]     /Users/jaskaransingh/nltk_data...\n",
      "[nltk_data]   Package omw-1.4 is already up-to-date!\n",
      "[nltk_data] Downloading package wordnet to punkt...\n",
      "[nltk_data]   Package wordnet is already up-to-date!\n"
     ]
    }
   ],
   "source": [
    "import pandas as pd\n",
    "import numpy as np\n",
    "\n",
    "from preprocess import preprocess_text"
   ]
  },
  {
   "cell_type": "markdown",
   "id": "ec05b685",
   "metadata": {},
   "source": [
    "#### Importing labelled and unlabelled data"
   ]
  },
  {
   "cell_type": "code",
   "execution_count": 2,
   "id": "f5ef851f",
   "metadata": {},
   "outputs": [],
   "source": [
    "labelled_data = pd.read_csv(\"data/labelled/labelled_data.csv\")\n",
    "unlabelled_data = pd.read_csv(\"data/unlabelled_data/unlabelled_data_json.csv\")"
   ]
  },
  {
   "cell_type": "markdown",
   "id": "d0936a67",
   "metadata": {},
   "source": [
    "#### For Labelled Data"
   ]
  },
  {
   "cell_type": "code",
   "execution_count": 3,
   "id": "0ecbb91d",
   "metadata": {},
   "outputs": [],
   "source": [
    "df = labelled_data[['title', 'abstract','categories']]"
   ]
  },
  {
   "cell_type": "code",
   "execution_count": 4,
   "id": "bccdd394",
   "metadata": {},
   "outputs": [],
   "source": [
    "df['title'] = preprocess_text(df, 'title')\n",
    "df['abstract'] = preprocess_text(df, 'abstract')"
   ]
  },
  {
   "cell_type": "markdown",
   "id": "27279b22",
   "metadata": {},
   "source": [
    "#### For Unlabelled Data"
   ]
  },
  {
   "cell_type": "code",
   "execution_count": 5,
   "id": "3bd7c32b",
   "metadata": {},
   "outputs": [],
   "source": [
    "df_unlab = unlabelled_data[['title', 'abstract']]"
   ]
  },
  {
   "cell_type": "code",
   "execution_count": 6,
   "id": "91c7415d",
   "metadata": {},
   "outputs": [],
   "source": [
    "df_unlab['title'] = preprocess_text(df_unlab, 'title')\n",
    "df_unlab['abstract'] = preprocess_text(df_unlab, 'abstract')"
   ]
  },
  {
   "cell_type": "code",
   "execution_count": 7,
   "id": "42e0b770",
   "metadata": {},
   "outputs": [],
   "source": [
    "unlab_x = df_unlab[['title', 'abstract']].agg(' '.join, axis=1)"
   ]
  },
  {
   "cell_type": "markdown",
   "id": "bff64c3a",
   "metadata": {},
   "source": [
    "#### Creating Training Data"
   ]
  },
  {
   "cell_type": "code",
   "execution_count": 8,
   "id": "d2add264",
   "metadata": {},
   "outputs": [],
   "source": [
    "x = df[['title', 'abstract']].agg(' '.join, axis=1)\n",
    "y = df[\"categories\"]"
   ]
  },
  {
   "cell_type": "code",
   "execution_count": 9,
   "id": "b46a296e",
   "metadata": {},
   "outputs": [],
   "source": [
    "from sklearn.model_selection import train_test_split as tts\n",
    "\n",
    "train_x,test_x,train_y,test_y = tts(x,y,test_size=0.2,stratify=y)"
   ]
  },
  {
   "cell_type": "code",
   "execution_count": 10,
   "id": "43687c9f",
   "metadata": {},
   "outputs": [],
   "source": [
    "from sklearn.feature_extraction.text import TfidfVectorizer\n",
    "\n",
    "tfidf_vect = TfidfVectorizer(stop_words = 'english')\n",
    "\n",
    "tfidf_train = tfidf_vect.fit_transform(train_x)\n",
    "tfidf_test = tfidf_vect.transform(test_x)\n",
    "\n",
    "tfidf_df = pd.DataFrame(tfidf_train.A, columns=tfidf_vect.get_feature_names())"
   ]
  },
  {
   "cell_type": "code",
   "execution_count": 11,
   "id": "1a8ce10b",
   "metadata": {},
   "outputs": [
    {
     "name": "stdout",
     "output_type": "stream",
     "text": [
      "0.8901234567901235\n"
     ]
    }
   ],
   "source": [
    "from sklearn.linear_model import LogisticRegression\n",
    "from sklearn.metrics import accuracy_score\n",
    "\n",
    "lg = LogisticRegression(solver='lbfgs', max_iter=1000)\n",
    "\n",
    "lg.fit(tfidf_train, train_y)\n",
    "pred = lg.predict(tfidf_test)\n",
    "\n",
    "print(accuracy_score(test_y,pred))"
   ]
  },
  {
   "cell_type": "code",
   "execution_count": 12,
   "id": "21946f5e",
   "metadata": {},
   "outputs": [],
   "source": [
    "unlab_df = pd.Series(unlab_x,\n",
    "              name=\"text\")\n",
    "\n",
    "unlab_df = unlab_df.to_frame(name=\"text\")"
   ]
  },
  {
   "cell_type": "code",
   "execution_count": 14,
   "id": "da291ee7",
   "metadata": {},
   "outputs": [],
   "source": [
    "from sklearn.preprocessing import LabelEncoder\n",
    "\n",
    "le = LabelEncoder()\n",
    "encoded_y = le.fit_transform(train_y)\n",
    "test_encoded_y = le.fit_transform(test_y)"
   ]
  },
  {
   "cell_type": "code",
   "execution_count": 15,
   "id": "e64e829a",
   "metadata": {},
   "outputs": [],
   "source": [
    "X_train_mixed = np.concatenate((np.array(train_x), np.array(unlab_x)))\n",
    "\n",
    "nolabel = [-1 for _ in range(len(unlab_x))]\n",
    "y_train_mixed = np.concatenate((encoded_y, nolabel))"
   ]
  },
  {
   "cell_type": "code",
   "execution_count": 16,
   "id": "d8cfc633",
   "metadata": {},
   "outputs": [
    {
     "data": {
      "text/html": [
       "<style>#sk-container-id-1 {color: black;background-color: white;}#sk-container-id-1 pre{padding: 0;}#sk-container-id-1 div.sk-toggleable {background-color: white;}#sk-container-id-1 label.sk-toggleable__label {cursor: pointer;display: block;width: 100%;margin-bottom: 0;padding: 0.3em;box-sizing: border-box;text-align: center;}#sk-container-id-1 label.sk-toggleable__label-arrow:before {content: \"▸\";float: left;margin-right: 0.25em;color: #696969;}#sk-container-id-1 label.sk-toggleable__label-arrow:hover:before {color: black;}#sk-container-id-1 div.sk-estimator:hover label.sk-toggleable__label-arrow:before {color: black;}#sk-container-id-1 div.sk-toggleable__content {max-height: 0;max-width: 0;overflow: hidden;text-align: left;background-color: #f0f8ff;}#sk-container-id-1 div.sk-toggleable__content pre {margin: 0.2em;color: black;border-radius: 0.25em;background-color: #f0f8ff;}#sk-container-id-1 input.sk-toggleable__control:checked~div.sk-toggleable__content {max-height: 200px;max-width: 100%;overflow: auto;}#sk-container-id-1 input.sk-toggleable__control:checked~label.sk-toggleable__label-arrow:before {content: \"▾\";}#sk-container-id-1 div.sk-estimator input.sk-toggleable__control:checked~label.sk-toggleable__label {background-color: #d4ebff;}#sk-container-id-1 div.sk-label input.sk-toggleable__control:checked~label.sk-toggleable__label {background-color: #d4ebff;}#sk-container-id-1 input.sk-hidden--visually {border: 0;clip: rect(1px 1px 1px 1px);clip: rect(1px, 1px, 1px, 1px);height: 1px;margin: -1px;overflow: hidden;padding: 0;position: absolute;width: 1px;}#sk-container-id-1 div.sk-estimator {font-family: monospace;background-color: #f0f8ff;border: 1px dotted black;border-radius: 0.25em;box-sizing: border-box;margin-bottom: 0.5em;}#sk-container-id-1 div.sk-estimator:hover {background-color: #d4ebff;}#sk-container-id-1 div.sk-parallel-item::after {content: \"\";width: 100%;border-bottom: 1px solid gray;flex-grow: 1;}#sk-container-id-1 div.sk-label:hover label.sk-toggleable__label {background-color: #d4ebff;}#sk-container-id-1 div.sk-serial::before {content: \"\";position: absolute;border-left: 1px solid gray;box-sizing: border-box;top: 0;bottom: 0;left: 50%;z-index: 0;}#sk-container-id-1 div.sk-serial {display: flex;flex-direction: column;align-items: center;background-color: white;padding-right: 0.2em;padding-left: 0.2em;position: relative;}#sk-container-id-1 div.sk-item {position: relative;z-index: 1;}#sk-container-id-1 div.sk-parallel {display: flex;align-items: stretch;justify-content: center;background-color: white;position: relative;}#sk-container-id-1 div.sk-item::before, #sk-container-id-1 div.sk-parallel-item::before {content: \"\";position: absolute;border-left: 1px solid gray;box-sizing: border-box;top: 0;bottom: 0;left: 50%;z-index: -1;}#sk-container-id-1 div.sk-parallel-item {display: flex;flex-direction: column;z-index: 1;position: relative;background-color: white;}#sk-container-id-1 div.sk-parallel-item:first-child::after {align-self: flex-end;width: 50%;}#sk-container-id-1 div.sk-parallel-item:last-child::after {align-self: flex-start;width: 50%;}#sk-container-id-1 div.sk-parallel-item:only-child::after {width: 0;}#sk-container-id-1 div.sk-dashed-wrapped {border: 1px dashed gray;margin: 0 0.4em 0.5em 0.4em;box-sizing: border-box;padding-bottom: 0.4em;background-color: white;}#sk-container-id-1 div.sk-label label {font-family: monospace;font-weight: bold;display: inline-block;line-height: 1.2em;}#sk-container-id-1 div.sk-label-container {text-align: center;}#sk-container-id-1 div.sk-container {/* jupyter's `normalize.less` sets `[hidden] { display: none; }` but bootstrap.min.css set `[hidden] { display: none !important; }` so we also need the `!important` here to be able to override the default hidden behavior on the sphinx rendered scikit-learn.org. See: https://github.com/scikit-learn/scikit-learn/issues/21755 */display: inline-block !important;position: relative;}#sk-container-id-1 div.sk-text-repr-fallback {display: none;}</style><div id=\"sk-container-id-1\" class=\"sk-top-container\"><div class=\"sk-text-repr-fallback\"><pre>LabelPropagation()</pre><b>In a Jupyter environment, please rerun this cell to show the HTML representation or trust the notebook. <br />On GitHub, the HTML representation is unable to render, please try loading this page with nbviewer.org.</b></div><div class=\"sk-container\" hidden><div class=\"sk-item\"><div class=\"sk-estimator sk-toggleable\"><input class=\"sk-toggleable__control sk-hidden--visually\" id=\"sk-estimator-id-1\" type=\"checkbox\" checked><label for=\"sk-estimator-id-1\" class=\"sk-toggleable__label sk-toggleable__label-arrow\">LabelPropagation</label><div class=\"sk-toggleable__content\"><pre>LabelPropagation()</pre></div></div></div></div></div>"
      ],
      "text/plain": [
       "LabelPropagation()"
      ]
     },
     "execution_count": 16,
     "metadata": {},
     "output_type": "execute_result"
    }
   ],
   "source": [
    "from sklearn.feature_extraction.text import TfidfVectorizer\n",
    "\n",
    "tfidf_semi_sup = tfidf_vect.transform(X_train_mixed)\n",
    "semi_df = pd.DataFrame(tfidf_semi_sup.A, columns=tfidf_vect.get_feature_names_out())\n",
    "\n",
    "# importing the module\n",
    "from sklearn.semi_supervised import LabelPropagation\n",
    "\n",
    "# define model\n",
    "model = LabelPropagation()\n",
    "\n",
    "# fit model on training dataset\n",
    "model.fit(semi_df, y_train_mixed)"
   ]
  },
  {
   "cell_type": "code",
   "execution_count": 17,
   "id": "eb2d8d96",
   "metadata": {},
   "outputs": [],
   "source": [
    "pred = model.predict(tfidf_test)"
   ]
  },
  {
   "cell_type": "code",
   "execution_count": 24,
   "id": "7ed14f37",
   "metadata": {},
   "outputs": [
    {
     "name": "stdout",
     "output_type": "stream",
     "text": [
      "The accuracy using Self Training Classifier is 0.778395061728395\n"
     ]
    }
   ],
   "source": [
    "print(f'The accuracy using Self Training Classifier is {accuracy_score(test_encoded_y, pred)}')"
   ]
  },
  {
   "cell_type": "code",
   "execution_count": 19,
   "id": "957b7acc",
   "metadata": {},
   "outputs": [
    {
     "data": {
      "text/plain": [
       "-1    32396\n",
       " 2     1410\n",
       " 6     1410\n",
       " 0     1281\n",
       " 3     1138\n",
       " 4      583\n",
       " 5      451\n",
       " 1      206\n",
       "dtype: int64"
      ]
     },
     "execution_count": 19,
     "metadata": {},
     "output_type": "execute_result"
    }
   ],
   "source": [
    "pd.Series(y_train_mixed).value_counts()"
   ]
  },
  {
   "cell_type": "code",
   "execution_count": 20,
   "id": "55c70329",
   "metadata": {},
   "outputs": [],
   "source": [
    "from sklearn.linear_model import LogisticRegression\n",
    "\n",
    "tfidf_semi_sup = tfidf_vect.transform(X_train_mixed)\n",
    "semi_df = pd.DataFrame(tfidf_semi_sup.A, columns=tfidf_vect.get_feature_names_out())\n",
    "\n",
    "lg = LogisticRegression(solver='lbfgs', max_iter=1000)\n",
    "\n",
    "# importing selftraining classifier\n",
    "from sklearn.semi_supervised import SelfTrainingClassifier\n",
    "\n",
    "# Specify Self-Training model parameters\n",
    "self_training_model = SelfTrainingClassifier(base_estimator=lg)\n",
    "\n",
    "# Fit the model\n",
    "clf_ST = self_training_model.fit(semi_df, y_train_mixed)"
   ]
  },
  {
   "cell_type": "code",
   "execution_count": 21,
   "id": "bd160b9f",
   "metadata": {},
   "outputs": [],
   "source": [
    "pred_self_training = clf_ST.predict(tfidf_test)"
   ]
  },
  {
   "cell_type": "code",
   "execution_count": 23,
   "id": "d3c943de",
   "metadata": {},
   "outputs": [
    {
     "name": "stdout",
     "output_type": "stream",
     "text": [
      "The accuracy using Self Training Classifier is 0.8839506172839506\n"
     ]
    }
   ],
   "source": [
    "print(f'The accuracy using Self Training Classifier is {accuracy_score(test_encoded_y, pred_self_training)}')"
   ]
  }
 ],
 "metadata": {
  "kernelspec": {
   "display_name": "Python 3 (ipykernel)",
   "language": "python",
   "name": "python3"
  },
  "language_info": {
   "codemirror_mode": {
    "name": "ipython",
    "version": 3
   },
   "file_extension": ".py",
   "mimetype": "text/x-python",
   "name": "python",
   "nbconvert_exporter": "python",
   "pygments_lexer": "ipython3",
   "version": "3.9.12"
  }
 },
 "nbformat": 4,
 "nbformat_minor": 5
}
