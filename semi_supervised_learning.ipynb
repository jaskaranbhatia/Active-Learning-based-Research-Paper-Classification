{
 "cells": [
  {
   "cell_type": "markdown",
   "id": "506c5470",
   "metadata": {},
   "source": [
    "#### Importing the necessary libraries"
   ]
  },
  {
   "cell_type": "code",
   "execution_count": 1,
   "id": "4d8babb1",
   "metadata": {},
   "outputs": [
    {
     "name": "stderr",
     "output_type": "stream",
     "text": [
      "[nltk_data] Downloading package wordnet to\n",
      "[nltk_data]     /Users/jaskaransingh/nltk_data...\n",
      "[nltk_data]   Package wordnet is already up-to-date!\n",
      "[nltk_data] Downloading package omw-1.4 to\n",
      "[nltk_data]     /Users/jaskaransingh/nltk_data...\n",
      "[nltk_data]   Package omw-1.4 is already up-to-date!\n",
      "[nltk_data] Downloading package wordnet to punkt...\n",
      "[nltk_data]   Package wordnet is already up-to-date!\n"
     ]
    }
   ],
   "source": [
    "import pandas as pd\n",
    "import numpy as np\n",
    "\n",
    "from preprocess import preprocess_text"
   ]
  },
  {
   "cell_type": "markdown",
   "id": "d847f1fc",
   "metadata": {},
   "source": [
    "#### Importing labelled and unlabelled data"
   ]
  },
  {
   "cell_type": "code",
   "execution_count": 2,
   "id": "398a87c9",
   "metadata": {},
   "outputs": [],
   "source": [
    "cs_data = pd.read_csv(\"data/labelled/cs_data.csv\")\n",
    "api_unlab = pd.read_csv(\"data/unlabelled_data/api_unlabelled.csv\")"
   ]
  },
  {
   "cell_type": "markdown",
   "id": "9a18a506",
   "metadata": {},
   "source": [
    "#### Using 80% of the cs_data as unlabelled data only"
   ]
  },
  {
   "cell_type": "code",
   "execution_count": 3,
   "id": "b47539ec",
   "metadata": {},
   "outputs": [],
   "source": [
    "from sklearn.model_selection import train_test_split as tts\n",
    "\n",
    "cs_data = cs_data[['title', 'abstract','categories']]\n",
    "\n",
    "labelled_data, unlabelled_data = tts(cs_data, train_size = 0.2, random_state=42)"
   ]
  },
  {
   "cell_type": "code",
   "execution_count": 4,
   "id": "dc23c616",
   "metadata": {},
   "outputs": [],
   "source": [
    "unlabelled_data.drop(['categories'], inplace=True, axis=1)"
   ]
  },
  {
   "cell_type": "markdown",
   "id": "ab434f20",
   "metadata": {},
   "source": [
    "#### Fetching the main columns from unlabelled data fetched using arXiV API"
   ]
  },
  {
   "cell_type": "code",
   "execution_count": 5,
   "id": "7b82e9de",
   "metadata": {},
   "outputs": [],
   "source": [
    "# Unlabelled Dataset from arxiv API\n",
    "\n",
    "api_unlab.drop(['Unnamed: 0'], axis=1, inplace=True)\n",
    "api_unlab['title'] = api_unlab['Title']\n",
    "api_unlab['abstract'] = api_unlab['Abstract']\n",
    "\n",
    "api_unlab.drop(['Title', 'Abstract'], inplace=True, axis=1)\n",
    "\n",
    "api_unlab = api_unlab[['title', 'abstract']]"
   ]
  },
  {
   "cell_type": "markdown",
   "id": "be3cc7fe",
   "metadata": {},
   "source": [
    "#### Combining the 80% of the cs_data as unlabelled only and the unlabelled data from arXiV API"
   ]
  },
  {
   "cell_type": "code",
   "execution_count": 6,
   "id": "03d3288a",
   "metadata": {},
   "outputs": [],
   "source": [
    "unlabelled_data = unlabelled_data.append(api_unlab, ignore_index=True)"
   ]
  },
  {
   "cell_type": "code",
   "execution_count": 7,
   "id": "7d17da0b",
   "metadata": {},
   "outputs": [],
   "source": [
    "labelled_data.reset_index(inplace=True, drop=True)\n",
    "unlabelled_data.reset_index(inplace=True, drop=True)"
   ]
  },
  {
   "cell_type": "markdown",
   "id": "0af10291",
   "metadata": {},
   "source": [
    "#### Importing from Semisupervised module created by us"
   ]
  },
  {
   "cell_type": "code",
   "execution_count": 8,
   "id": "acfb3cbc",
   "metadata": {},
   "outputs": [],
   "source": [
    "from semi_supervised import Semisupervised"
   ]
  },
  {
   "cell_type": "code",
   "execution_count": 9,
   "id": "fb94ae34",
   "metadata": {},
   "outputs": [],
   "source": [
    "trainer = Semisupervised(labelled_data, unlabelled_data)"
   ]
  },
  {
   "cell_type": "markdown",
   "id": "9cb09352",
   "metadata": {},
   "source": [
    "#### Logistic Regression as Base Model for Self Training Classifier"
   ]
  },
  {
   "cell_type": "code",
   "execution_count": 10,
   "id": "367f7a1f",
   "metadata": {},
   "outputs": [],
   "source": [
    "from sklearn.linear_model import LogisticRegression"
   ]
  },
  {
   "cell_type": "code",
   "execution_count": 11,
   "id": "9ecf9216",
   "metadata": {},
   "outputs": [],
   "source": [
    "lg = LogisticRegression(penalty='l2', C=10)"
   ]
  },
  {
   "cell_type": "code",
   "execution_count": 12,
   "id": "564794c4",
   "metadata": {},
   "outputs": [],
   "source": [
    "cls_st = trainer.train_self_training_classifier(base_model=lg)"
   ]
  },
  {
   "cell_type": "code",
   "execution_count": 13,
   "id": "c044a52e",
   "metadata": {},
   "outputs": [],
   "source": [
    "pred, acc = trainer.predict_self_training_classifier(cls_st)"
   ]
  },
  {
   "cell_type": "code",
   "execution_count": 14,
   "id": "15b5b861",
   "metadata": {},
   "outputs": [
    {
     "name": "stdout",
     "output_type": "stream",
     "text": [
      "0.8731481481481481\n"
     ]
    }
   ],
   "source": [
    "print(acc)"
   ]
  },
  {
   "cell_type": "markdown",
   "id": "2a116793",
   "metadata": {},
   "source": [
    "#### KNN as Base Model for Self Training Classifier"
   ]
  },
  {
   "cell_type": "code",
   "execution_count": 17,
   "id": "1cd3a521",
   "metadata": {},
   "outputs": [],
   "source": [
    "from sklearn.neighbors import KNeighborsClassifier"
   ]
  },
  {
   "cell_type": "code",
   "execution_count": 18,
   "id": "1e1d9f14",
   "metadata": {},
   "outputs": [],
   "source": [
    "knn = KNeighborsClassifier(n_neighbors=5)"
   ]
  },
  {
   "cell_type": "code",
   "execution_count": 19,
   "id": "af127084",
   "metadata": {},
   "outputs": [],
   "source": [
    "cls_st_knn = trainer.train_self_training_classifier(base_model=knn)"
   ]
  },
  {
   "cell_type": "code",
   "execution_count": 20,
   "id": "963fe3e5",
   "metadata": {},
   "outputs": [],
   "source": [
    "pred_knn, acc_knn = trainer.predict_self_training_classifier(cls_st_knn)"
   ]
  },
  {
   "cell_type": "code",
   "execution_count": 21,
   "id": "f4e021a4",
   "metadata": {},
   "outputs": [
    {
     "name": "stdout",
     "output_type": "stream",
     "text": [
      "0.6589506172839507\n"
     ]
    }
   ],
   "source": [
    "print(acc_knn)"
   ]
  },
  {
   "cell_type": "markdown",
   "id": "2f0fd7ad",
   "metadata": {},
   "source": [
    "#### RandomForest as Base Model for Self Training Classifier"
   ]
  },
  {
   "cell_type": "code",
   "execution_count": 23,
   "id": "6a1f778e",
   "metadata": {},
   "outputs": [],
   "source": [
    "from sklearn.ensemble import RandomForestClassifier"
   ]
  },
  {
   "cell_type": "code",
   "execution_count": 24,
   "id": "fc62c8c2",
   "metadata": {},
   "outputs": [],
   "source": [
    "rfc = RandomForestClassifier(n_estimators=250)"
   ]
  },
  {
   "cell_type": "code",
   "execution_count": 25,
   "id": "f7f94935",
   "metadata": {},
   "outputs": [],
   "source": [
    "cls_st_rfc = trainer.train_self_training_classifier(base_model=rfc)"
   ]
  },
  {
   "cell_type": "code",
   "execution_count": 26,
   "id": "74eb3950",
   "metadata": {},
   "outputs": [],
   "source": [
    "pred_rfc, acc_rfc = trainer.predict_self_training_classifier(cls_st_rfc)"
   ]
  },
  {
   "cell_type": "code",
   "execution_count": 27,
   "id": "70f125db",
   "metadata": {},
   "outputs": [
    {
     "name": "stdout",
     "output_type": "stream",
     "text": [
      "0.7981481481481482\n"
     ]
    }
   ],
   "source": [
    "print(acc_rfc)"
   ]
  },
  {
   "cell_type": "markdown",
   "id": "7c785484",
   "metadata": {},
   "source": [
    "#### GaussianNB as Base Model for Self Training Classifier"
   ]
  },
  {
   "cell_type": "code",
   "execution_count": 10,
   "id": "d9a02bd5",
   "metadata": {},
   "outputs": [],
   "source": [
    "from sklearn.naive_bayes import GaussianNB"
   ]
  },
  {
   "cell_type": "code",
   "execution_count": 11,
   "id": "d55738cf",
   "metadata": {},
   "outputs": [],
   "source": [
    "nb = GaussianNB(var_smoothing=0)"
   ]
  },
  {
   "cell_type": "code",
   "execution_count": 12,
   "id": "c7b536b3",
   "metadata": {},
   "outputs": [],
   "source": [
    "cls_st_nb = trainer.train_self_training_classifier(base_model=nb)"
   ]
  },
  {
   "cell_type": "code",
   "execution_count": 13,
   "id": "f34862ea",
   "metadata": {},
   "outputs": [],
   "source": [
    "pred_nb, acc_nb = trainer.predict_self_training_classifier(cls_st_nb)"
   ]
  },
  {
   "cell_type": "code",
   "execution_count": 14,
   "id": "7197fbd8",
   "metadata": {},
   "outputs": [
    {
     "name": "stdout",
     "output_type": "stream",
     "text": [
      "0.19907407407407407\n"
     ]
    }
   ],
   "source": [
    "print(acc_nb)"
   ]
  }
 ],
 "metadata": {
  "kernelspec": {
   "display_name": "Python 3 (ipykernel)",
   "language": "python",
   "name": "python3"
  },
  "language_info": {
   "codemirror_mode": {
    "name": "ipython",
    "version": 3
   },
   "file_extension": ".py",
   "mimetype": "text/x-python",
   "name": "python",
   "nbconvert_exporter": "python",
   "pygments_lexer": "ipython3",
   "version": "3.9.12"
  }
 },
 "nbformat": 4,
 "nbformat_minor": 5
}
