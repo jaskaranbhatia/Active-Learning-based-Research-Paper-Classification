{
 "cells": [
  {
   "cell_type": "code",
   "execution_count": 80,
   "metadata": {},
   "outputs": [],
   "source": [
    "import pandas as pd\n",
    "import numpy as np\n",
    "from collections import Counter\n",
    "import matplotlib.pyplot as plt\n",
    "import seaborn as sns\n",
    "from tqdm import tqdm\n",
    "import re\n",
    "import os"
   ]
  },
  {
   "cell_type": "markdown",
   "metadata": {},
   "source": [
    "## CONSTANTS FOR THIS FILE"
   ]
  },
  {
   "cell_type": "code",
   "execution_count": 34,
   "metadata": {},
   "outputs": [],
   "source": [
    "labelled_data_path = \"/data/labelled/labelled_data.csv\"\n",
    "to_keep = ['title', 'abstract','categories', 'authors']"
   ]
  },
  {
   "cell_type": "markdown",
   "metadata": {},
   "source": [
    "## LOADING DATA FILE , FILTERING UNNECESSARY FIELDS"
   ]
  },
  {
   "cell_type": "code",
   "execution_count": 70,
   "metadata": {},
   "outputs": [
    {
     "data": {
      "text/html": [
       "<div>\n",
       "<style scoped>\n",
       "    .dataframe tbody tr th:only-of-type {\n",
       "        vertical-align: middle;\n",
       "    }\n",
       "\n",
       "    .dataframe tbody tr th {\n",
       "        vertical-align: top;\n",
       "    }\n",
       "\n",
       "    .dataframe thead th {\n",
       "        text-align: right;\n",
       "    }\n",
       "</style>\n",
       "<table border=\"1\" class=\"dataframe\">\n",
       "  <thead>\n",
       "    <tr style=\"text-align: right;\">\n",
       "      <th></th>\n",
       "      <th>title</th>\n",
       "      <th>abstract</th>\n",
       "      <th>categories</th>\n",
       "      <th>authors</th>\n",
       "    </tr>\n",
       "  </thead>\n",
       "  <tbody>\n",
       "    <tr>\n",
       "      <th>0</th>\n",
       "      <td>Calculating Valid Domains for BDD-Based Intera...</td>\n",
       "      <td>In these notes we formally describe the func...</td>\n",
       "      <td>cs.AI</td>\n",
       "      <td>Tarik Hadzic, Rune Moller Jensen, Henrik Reif ...</td>\n",
       "    </tr>\n",
       "    <tr>\n",
       "      <th>1</th>\n",
       "      <td>A study of structural properties on profiles HMMs</td>\n",
       "      <td>Motivation: Profile hidden Markov Models (pH...</td>\n",
       "      <td>cs.AI</td>\n",
       "      <td>Juliana S Bernardes, Alberto Davila, Vitor San...</td>\n",
       "    </tr>\n",
       "    <tr>\n",
       "      <th>2</th>\n",
       "      <td>Narratives within immersive technologies</td>\n",
       "      <td>The main goal of this project is to research...</td>\n",
       "      <td>cs.HC</td>\n",
       "      <td>Joan Llobera</td>\n",
       "    </tr>\n",
       "    <tr>\n",
       "      <th>3</th>\n",
       "      <td>Bayesian approach to rough set</td>\n",
       "      <td>This paper proposes an approach to training ...</td>\n",
       "      <td>cs.AI</td>\n",
       "      <td>Tshilidzi Marwala and Bodie Crossingham</td>\n",
       "    </tr>\n",
       "    <tr>\n",
       "      <th>4</th>\n",
       "      <td>Une plate-forme dynamique pour l'\\'evaluation ...</td>\n",
       "      <td>In object-oriented or object-relational data...</td>\n",
       "      <td>cs.DB</td>\n",
       "      <td>Zhen He, J\\'er\\^ome Darmont (ERIC)</td>\n",
       "    </tr>\n",
       "  </tbody>\n",
       "</table>\n",
       "</div>"
      ],
      "text/plain": [
       "                                               title  \\\n",
       "0  Calculating Valid Domains for BDD-Based Intera...   \n",
       "1  A study of structural properties on profiles HMMs   \n",
       "2           Narratives within immersive technologies   \n",
       "3                     Bayesian approach to rough set   \n",
       "4  Une plate-forme dynamique pour l'\\'evaluation ...   \n",
       "\n",
       "                                            abstract categories  \\\n",
       "0    In these notes we formally describe the func...      cs.AI   \n",
       "1    Motivation: Profile hidden Markov Models (pH...      cs.AI   \n",
       "2    The main goal of this project is to research...      cs.HC   \n",
       "3    This paper proposes an approach to training ...      cs.AI   \n",
       "4    In object-oriented or object-relational data...      cs.DB   \n",
       "\n",
       "                                             authors  \n",
       "0  Tarik Hadzic, Rune Moller Jensen, Henrik Reif ...  \n",
       "1  Juliana S Bernardes, Alberto Davila, Vitor San...  \n",
       "2                                       Joan Llobera  \n",
       "3            Tshilidzi Marwala and Bodie Crossingham  \n",
       "4                 Zhen He, J\\'er\\^ome Darmont (ERIC)  "
      ]
     },
     "execution_count": 70,
     "metadata": {},
     "output_type": "execute_result"
    }
   ],
   "source": [
    "data = pd.read_csv(os.path.dirname(os.getcwd())+labelled_data_path)\n",
    "data = data[to_keep]\n",
    "data.head()"
   ]
  },
  {
   "cell_type": "markdown",
   "metadata": {},
   "source": [
    "## CHECKING LABEL DISTRIBUTION"
   ]
  },
  {
   "cell_type": "code",
   "execution_count": 36,
   "metadata": {},
   "outputs": [
    {
     "data": {
      "image/png": "[encoded data removed]",
      "text/plain": [
       "<Figure size 432x288 with 1 Axes>"
      ]
     },
     "metadata": {},
     "output_type": "display_data"
    }
   ],
   "source": [
    "dist = dict(Counter(data['categories']))\n",
    "labels = dist.keys()\n",
    "counts = dist.values()\n",
    "colors = sns.color_palette('pastel')[0:7]\n",
    "plt.pie(counts, labels = labels, colors = colors, autopct='%.0f%%')\n",
    "plt.show()"
   ]
  },
  {
   "cell_type": "markdown",
   "metadata": {},
   "source": [
    "## AVERAGE CORPUS RAW TITLE LENGTH & DISTRIBUTION"
   ]
  },
  {
   "cell_type": "code",
   "execution_count": 37,
   "metadata": {},
   "outputs": [
    {
     "name": "stdout",
     "output_type": "stream",
     "text": [
      "Average Corpus Title Length =  9.238165539575197\n",
      "Maximum Corpus Title Length =  38\n",
      "Minimum Corpus Title Length =  1\n",
      "\n",
      "===========================\n",
      "\n",
      "Distribution of count values: \n"
     ]
    },
    {
     "data": {
      "text/plain": [
       "<AxesSubplot:ylabel='Count'>"
      ]
     },
     "execution_count": 37,
     "metadata": {},
     "output_type": "execute_result"
    },
    {
     "data": {
      "image/png": "[encoded data removed]",
      "text/plain": [
       "<Figure size 432x288 with 1 Axes>"
      ]
     },
     "metadata": {
      "needs_background": "light"
     },
     "output_type": "display_data"
    }
   ],
   "source": [
    "def avg_string_length(strings:list):\n",
    "    counts = list(map(lambda x: len(x.split(\" \")), strings))\n",
    "    return counts, sum(counts)/len(counts), max(counts), min(counts)\n",
    "\n",
    "counts, avg, maximum, minimum = avg_string_length(data['title'])\n",
    "print(\"Average Corpus Title Length = \", avg)\n",
    "print(\"Maximum Corpus Title Length = \", maximum)\n",
    "print(\"Minimum Corpus Title Length = \", minimum)\n",
    "\n",
    "print(\"\\n===========================\\n\")\n",
    "print(\"Distribution of count values: \")\n",
    "sns.histplot(counts)"
   ]
  },
  {
   "cell_type": "markdown",
   "metadata": {},
   "source": [
    "## AVERAGE CORPUS RAW ABSTRACT LENGTH & DISTRIBUTION"
   ]
  },
  {
   "cell_type": "code",
   "execution_count": 38,
   "metadata": {},
   "outputs": [
    {
     "name": "stdout",
     "output_type": "stream",
     "text": [
      "Average Corpus Title Length =  143.58505571959233\n",
      "Maximum Corpus Title Length =  516\n",
      "Minimum Corpus Title Length =  6\n",
      "\n",
      "===========================\n",
      "\n",
      "Distribution of count values: \n"
     ]
    },
    {
     "data": {
      "text/plain": [
       "<AxesSubplot:ylabel='Count'>"
      ]
     },
     "execution_count": 38,
     "metadata": {},
     "output_type": "execute_result"
    },
    {
     "data": {
      "image/png": "[encoded data removed]",
      "text/plain": [
       "<Figure size 432x288 with 1 Axes>"
      ]
     },
     "metadata": {
      "needs_background": "light"
     },
     "output_type": "display_data"
    }
   ],
   "source": [
    "counts, avg, maximum, minimum = avg_string_length(data['abstract'])\n",
    "print(\"Average Corpus Title Length = \", avg)\n",
    "print(\"Maximum Corpus Title Length = \", maximum)\n",
    "print(\"Minimum Corpus Title Length = \", minimum)\n",
    "\n",
    "print(\"\\n===========================\\n\")\n",
    "print(\"Distribution of count values: \")\n",
    "sns.histplot(counts)"
   ]
  },
  {
   "cell_type": "markdown",
   "metadata": {},
   "source": [
    "## AVERAGE CORPUS RAW TITLE LENGTH (LABEL-WISE)"
   ]
  },
  {
   "cell_type": "code",
   "execution_count": 64,
   "metadata": {},
   "outputs": [
    {
     "name": "stdout",
     "output_type": "stream",
     "text": [
      "( cs.AI ) -> Average Corpus  title  Length =  9.030231105559025\n",
      "( cs.AI ) -> Maximum Corpus  title  Length =  30\n",
      "( cs.AI ) -> Minimum Corpus  title  Length =  1\n",
      " ============================================== \n",
      "( cs.HC ) -> Average Corpus  title  Length =  11.022222222222222\n",
      "( cs.HC ) -> Maximum Corpus  title  Length =  38\n",
      "( cs.HC ) -> Minimum Corpus  title  Length =  1\n",
      " ============================================== \n",
      "( cs.DB ) -> Average Corpus  title  Length =  8.740013315579228\n",
      "( cs.DB ) -> Maximum Corpus  title  Length =  24\n",
      "( cs.DB ) -> Minimum Corpus  title  Length =  2\n",
      " ============================================== \n",
      "( cs.CG ) -> Average Corpus  title  Length =  8.067553735926305\n",
      "( cs.CG ) -> Maximum Corpus  title  Length =  27\n",
      "( cs.CG ) -> Minimum Corpus  title  Length =  1\n",
      " ============================================== \n",
      "( cs.IR ) -> Average Corpus  title  Length =  9.586231369765791\n",
      "( cs.IR ) -> Maximum Corpus  title  Length =  26\n",
      "( cs.IR ) -> Minimum Corpus  title  Length =  1\n",
      " ============================================== \n",
      "( cs.OS ) -> Average Corpus  title  Length =  9.133079847908744\n",
      "( cs.OS ) -> Maximum Corpus  title  Length =  23\n",
      "( cs.OS ) -> Minimum Corpus  title  Length =  2\n",
      " ============================================== \n",
      "( cs.FL ) -> Average Corpus  title  Length =  7.704354469060352\n",
      "( cs.FL ) -> Maximum Corpus  title  Length =  26\n",
      "( cs.FL ) -> Minimum Corpus  title  Length =  1\n",
      " ============================================== \n"
     ]
    },
    {
     "data": {
      "image/png": "[encoded data removed]",
      "text/plain": [
       "<Figure size 432x288 with 1 Axes>"
      ]
     },
     "metadata": {
      "needs_background": "light"
     },
     "output_type": "display_data"
    }
   ],
   "source": [
    "def bar_plot(ax, data, colors=None, total_width=0.8, single_width=1, legend=True):\n",
    "\n",
    "    # Check if colors where provided, otherwhise use the default color cycle\n",
    "    if colors is None:\n",
    "        colors = plt.rcParams['axes.prop_cycle'].by_key()['color']\n",
    "\n",
    "    # Number of bars per group\n",
    "    n_bars = len(data)\n",
    "\n",
    "    # The width of a single bar\n",
    "    bar_width = total_width / n_bars\n",
    "\n",
    "    # List containing handles for the drawn bars, used for the legend\n",
    "    bars = []\n",
    "\n",
    "    # Iterate over all data\n",
    "    for i, (name, values) in enumerate(data.items()):\n",
    "        # The offset in x direction of that bar\n",
    "        x_offset = (i - n_bars / 2) * bar_width + bar_width / 2\n",
    "\n",
    "        # Draw a bar for every value of that type\n",
    "        for x, y in enumerate(values):\n",
    "            bar = ax.bar(x + x_offset, y, width=bar_width * single_width, color=colors[i % len(colors)])\n",
    "\n",
    "        # Add a handle to the last drawn bar, which we'll need for the legend\n",
    "        bars.append(bar[0])\n",
    "\n",
    "    # Draw legend if we need\n",
    "    if legend:\n",
    "        ax.legend(bars, data.keys())\n",
    "\n",
    "\n",
    "def get_label_length(data, feature: str):\n",
    "    to_plot = {}\n",
    "    for label in labels:\n",
    "        d = data[data['categories']==label].reset_index(drop=True)\n",
    "        if len(d) == 0:\n",
    "            print(\"No records for \", d)\n",
    "            continue\n",
    "        counts, avg, maximum, minimum = avg_string_length(d[feature])\n",
    "        to_plot[label] = [avg,maximum,minimum]\n",
    "        print(\"(\" ,label,\") ->\",\"Average Corpus \",feature,\" Length = \", avg)\n",
    "        print(\"(\" ,label,\") ->\",\"Maximum Corpus \",feature,\" Length = \", maximum)\n",
    "        print(\"(\" ,label,\") ->\",\"Minimum Corpus \",feature,\" Length = \", minimum)\n",
    "        print(\" ============================================== \")\n",
    "    \n",
    "    fig, ax = plt.subplots()\n",
    "    bar_plot(ax, to_plot, total_width=.8, single_width=.9)\n",
    "    plt.show()\n",
    "\n",
    "get_label_length(data, feature='title')"
   ]
  },
  {
   "cell_type": "markdown",
   "metadata": {},
   "source": [
    "## AVERAGE CORPUS RAW ABSTRACT LENGTH (LABEL-WISE)"
   ]
  },
  {
   "cell_type": "code",
   "execution_count": 65,
   "metadata": {},
   "outputs": [
    {
     "name": "stdout",
     "output_type": "stream",
     "text": [
      "( cs.AI ) -> Average Corpus  abstract  Length =  137.1898813241724\n",
      "( cs.AI ) -> Maximum Corpus  abstract  Length =  516\n",
      "( cs.AI ) -> Minimum Corpus  abstract  Length =  7\n",
      " ============================================== \n",
      "( cs.HC ) -> Average Corpus  abstract  Length =  147.8395061728395\n",
      "( cs.HC ) -> Maximum Corpus  abstract  Length =  288\n",
      "( cs.HC ) -> Minimum Corpus  abstract  Length =  15\n",
      " ============================================== \n",
      "( cs.DB ) -> Average Corpus  abstract  Length =  155.68641810918774\n",
      "( cs.DB ) -> Maximum Corpus  abstract  Length =  298\n",
      "( cs.DB ) -> Minimum Corpus  abstract  Length =  7\n",
      " ============================================== \n",
      "( cs.CG ) -> Average Corpus  abstract  Length =  138.44165813715455\n",
      "( cs.CG ) -> Maximum Corpus  abstract  Length =  320\n",
      "( cs.CG ) -> Minimum Corpus  abstract  Length =  9\n",
      " ============================================== \n",
      "( cs.IR ) -> Average Corpus  abstract  Length =  159.28140525195172\n",
      "( cs.IR ) -> Maximum Corpus  abstract  Length =  293\n",
      "( cs.IR ) -> Minimum Corpus  abstract  Length =  6\n",
      " ============================================== \n",
      "( cs.OS ) -> Average Corpus  abstract  Length =  144.893536121673\n",
      "( cs.OS ) -> Maximum Corpus  abstract  Length =  276\n",
      "( cs.OS ) -> Minimum Corpus  abstract  Length =  30\n",
      " ============================================== \n",
      "( cs.FL ) -> Average Corpus  abstract  Length =  116.69977081741787\n",
      "( cs.FL ) -> Maximum Corpus  abstract  Length =  345\n",
      "( cs.FL ) -> Minimum Corpus  abstract  Length =  10\n",
      " ============================================== \n"
     ]
    },
    {
     "data": {
      "image/png": "[encoded data removed]",
      "text/plain": [
       "<Figure size 432x288 with 1 Axes>"
      ]
     },
     "metadata": {
      "needs_background": "light"
     },
     "output_type": "display_data"
    }
   ],
   "source": [
    "get_label_length(data, feature='abstract')"
   ]
  },
  {
   "cell_type": "markdown",
   "metadata": {},
   "source": [
    "## ANALYZING AUTHOR DISTRIBUTION"
   ]
  },
  {
   "cell_type": "code",
   "execution_count": 74,
   "metadata": {},
   "outputs": [],
   "source": [
    "authors_list = [authors.split(', ') for authors in data['authors']]\n",
    "all_authors = set([item for sublist in authors_list for item in sublist])"
   ]
  },
  {
   "cell_type": "code",
   "execution_count": 75,
   "metadata": {},
   "outputs": [],
   "source": [
    "data['authors'] = authors_list"
   ]
  },
  {
   "cell_type": "code",
   "execution_count": 78,
   "metadata": {},
   "outputs": [
    {
     "data": {
      "text/html": [
       "<div>\n",
       "<style scoped>\n",
       "    .dataframe tbody tr th:only-of-type {\n",
       "        vertical-align: middle;\n",
       "    }\n",
       "\n",
       "    .dataframe tbody tr th {\n",
       "        vertical-align: top;\n",
       "    }\n",
       "\n",
       "    .dataframe thead th {\n",
       "        text-align: right;\n",
       "    }\n",
       "</style>\n",
       "<table border=\"1\" class=\"dataframe\">\n",
       "  <thead>\n",
       "    <tr style=\"text-align: right;\">\n",
       "      <th></th>\n",
       "      <th>title</th>\n",
       "      <th>abstract</th>\n",
       "      <th>categories</th>\n",
       "      <th>authors</th>\n",
       "    </tr>\n",
       "  </thead>\n",
       "  <tbody>\n",
       "    <tr>\n",
       "      <th>0</th>\n",
       "      <td>Calculating Valid Domains for BDD-Based Intera...</td>\n",
       "      <td>In these notes we formally describe the func...</td>\n",
       "      <td>cs.AI</td>\n",
       "      <td>Tarik Hadzic</td>\n",
       "    </tr>\n",
       "    <tr>\n",
       "      <th>0</th>\n",
       "      <td>Calculating Valid Domains for BDD-Based Intera...</td>\n",
       "      <td>In these notes we formally describe the func...</td>\n",
       "      <td>cs.AI</td>\n",
       "      <td>Rune Moller Jensen</td>\n",
       "    </tr>\n",
       "    <tr>\n",
       "      <th>0</th>\n",
       "      <td>Calculating Valid Domains for BDD-Based Intera...</td>\n",
       "      <td>In these notes we formally describe the func...</td>\n",
       "      <td>cs.AI</td>\n",
       "      <td>Henrik Reif Andersen</td>\n",
       "    </tr>\n",
       "    <tr>\n",
       "      <th>1</th>\n",
       "      <td>A study of structural properties on profiles HMMs</td>\n",
       "      <td>Motivation: Profile hidden Markov Models (pH...</td>\n",
       "      <td>cs.AI</td>\n",
       "      <td>Juliana S Bernardes</td>\n",
       "    </tr>\n",
       "    <tr>\n",
       "      <th>1</th>\n",
       "      <td>A study of structural properties on profiles HMMs</td>\n",
       "      <td>Motivation: Profile hidden Markov Models (pH...</td>\n",
       "      <td>cs.AI</td>\n",
       "      <td>Alberto Davila</td>\n",
       "    </tr>\n",
       "    <tr>\n",
       "      <th>...</th>\n",
       "      <td>...</td>\n",
       "      <td>...</td>\n",
       "      <td>...</td>\n",
       "      <td>...</td>\n",
       "    </tr>\n",
       "    <tr>\n",
       "      <th>20995</th>\n",
       "      <td>Efficient and Extensible Algorithms for Multi ...</td>\n",
       "      <td>Complex queries are becoming commonplace, wi...</td>\n",
       "      <td>cs.DB</td>\n",
       "      <td>S. Sudarshan</td>\n",
       "    </tr>\n",
       "    <tr>\n",
       "      <th>20995</th>\n",
       "      <td>Efficient and Extensible Algorithms for Multi ...</td>\n",
       "      <td>Complex queries are becoming commonplace, wi...</td>\n",
       "      <td>cs.DB</td>\n",
       "      <td>Siddhesh Bhobe</td>\n",
       "    </tr>\n",
       "    <tr>\n",
       "      <th>20996</th>\n",
       "      <td>Cox's Theorem Revisited</td>\n",
       "      <td>The assumptions needed to prove Cox's Theore...</td>\n",
       "      <td>cs.AI</td>\n",
       "      <td>Joseph Y. Halpern</td>\n",
       "    </tr>\n",
       "    <tr>\n",
       "      <th>20997</th>\n",
       "      <td>Comparative Analysis of Five XML Query Languages</td>\n",
       "      <td>XML is becoming the most relevant new standa...</td>\n",
       "      <td>cs.DB</td>\n",
       "      <td>Angela Bonifati</td>\n",
       "    </tr>\n",
       "    <tr>\n",
       "      <th>20997</th>\n",
       "      <td>Comparative Analysis of Five XML Query Languages</td>\n",
       "      <td>XML is becoming the most relevant new standa...</td>\n",
       "      <td>cs.DB</td>\n",
       "      <td>Stefano Ceri</td>\n",
       "    </tr>\n",
       "  </tbody>\n",
       "</table>\n",
       "<p>61113 rows × 4 columns</p>\n",
       "</div>"
      ],
      "text/plain": [
       "                                                   title  \\\n",
       "0      Calculating Valid Domains for BDD-Based Intera...   \n",
       "0      Calculating Valid Domains for BDD-Based Intera...   \n",
       "0      Calculating Valid Domains for BDD-Based Intera...   \n",
       "1      A study of structural properties on profiles HMMs   \n",
       "1      A study of structural properties on profiles HMMs   \n",
       "...                                                  ...   \n",
       "20995  Efficient and Extensible Algorithms for Multi ...   \n",
       "20995  Efficient and Extensible Algorithms for Multi ...   \n",
       "20996                            Cox's Theorem Revisited   \n",
       "20997   Comparative Analysis of Five XML Query Languages   \n",
       "20997   Comparative Analysis of Five XML Query Languages   \n",
       "\n",
       "                                                abstract categories  \\\n",
       "0        In these notes we formally describe the func...      cs.AI   \n",
       "0        In these notes we formally describe the func...      cs.AI   \n",
       "0        In these notes we formally describe the func...      cs.AI   \n",
       "1        Motivation: Profile hidden Markov Models (pH...      cs.AI   \n",
       "1        Motivation: Profile hidden Markov Models (pH...      cs.AI   \n",
       "...                                                  ...        ...   \n",
       "20995    Complex queries are becoming commonplace, wi...      cs.DB   \n",
       "20995    Complex queries are becoming commonplace, wi...      cs.DB   \n",
       "20996    The assumptions needed to prove Cox's Theore...      cs.AI   \n",
       "20997    XML is becoming the most relevant new standa...      cs.DB   \n",
       "20997    XML is becoming the most relevant new standa...      cs.DB   \n",
       "\n",
       "                    authors  \n",
       "0              Tarik Hadzic  \n",
       "0        Rune Moller Jensen  \n",
       "0      Henrik Reif Andersen  \n",
       "1       Juliana S Bernardes  \n",
       "1            Alberto Davila  \n",
       "...                     ...  \n",
       "20995          S. Sudarshan  \n",
       "20995        Siddhesh Bhobe  \n",
       "20996     Joseph Y. Halpern  \n",
       "20997       Angela Bonifati  \n",
       "20997          Stefano Ceri  \n",
       "\n",
       "[61113 rows x 4 columns]"
      ]
     },
     "execution_count": 78,
     "metadata": {},
     "output_type": "execute_result"
    }
   ],
   "source": [
    "data = data.explode('authors')\n",
    "data"
   ]
  },
  {
   "cell_type": "code",
   "execution_count": 82,
   "metadata": {},
   "outputs": [
    {
     "name": "stderr",
     "output_type": "stream",
     "text": [
      "63it [00:00, 286.41it/s]"
     ]
    },
    {
     "name": "stdout",
     "output_type": "stream",
     "text": [
      "Total number of authors =  41679\n"
     ]
    },
    {
     "name": "stderr",
     "output_type": "stream",
     "text": [
      "41679it [01:59, 348.07it/s]"
     ]
    },
    {
     "name": "stdout",
     "output_type": "stream",
     "text": [
      "Average Categories Count =  1.0417716355958637\n",
      "Maximum Categories Count =  5\n",
      "Minimum Categories Count =  1\n",
      "\n",
      "===========================\n",
      "\n",
      "Distribution of count values: \n"
     ]
    },
    {
     "name": "stderr",
     "output_type": "stream",
     "text": [
      "\n"
     ]
    },
    {
     "data": {
      "text/plain": [
       "<AxesSubplot:ylabel='Count'>"
      ]
     },
     "execution_count": 82,
     "metadata": {},
     "output_type": "execute_result"
    },
    {
     "data": {
      "image/png": "[encoded data removed]",
      "text/plain": [
       "<Figure size 432x288 with 1 Axes>"
      ]
     },
     "metadata": {
      "needs_background": "light"
     },
     "output_type": "display_data"
    }
   ],
   "source": [
    "print(\"Total number of authors = \", len(all_authors))\n",
    "author_count = []\n",
    "for index, author in tqdm(enumerate(all_authors)):\n",
    "    author_df = data[data['authors']==author]\n",
    "    labels = list(set(author_df['categories'].tolist()))\n",
    "    author_count.append(len(labels))\n",
    "\n",
    "print(\"Average Categories Count = \", sum(author_count)/len(author_count))\n",
    "print(\"Maximum Categories Count = \", max(author_count))\n",
    "print(\"Minimum Categories Count = \", min(author_count))\n",
    "\n",
    "print(\"\\n===========================\\n\")\n",
    "print(\"Distribution of count values: \")\n",
    "sns.histplot(author_count)"
   ]
  },
  {
   "cell_type": "code",
   "execution_count": null,
   "metadata": {},
   "outputs": [],
   "source": []
  }
 ],
 "metadata": {
  "kernelspec": {
   "display_name": "Python 3",
   "language": "python",
   "name": "python3"
  },
  "language_info": {
   "codemirror_mode": {
    "name": "ipython",
    "version": 3
   },
   "file_extension": ".py",
   "mimetype": "text/x-python",
   "name": "python",
   "nbconvert_exporter": "python",
   "pygments_lexer": "ipython3",
   "version": "3.8.5"
  }
 },
 "nbformat": 4,
 "nbformat_minor": 4
}
